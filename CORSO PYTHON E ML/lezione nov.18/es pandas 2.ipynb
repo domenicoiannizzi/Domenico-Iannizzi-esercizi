{
 "cells": [
  {
   "cell_type": "code",
   "execution_count": null,
   "metadata": {},
   "outputs": [
    {
     "data": {
      "text/plain": [
       "0     30.0\n",
       "1     39.0\n",
       "2     92.0\n",
       "3     29.0\n",
       "4     28.0\n",
       "5     43.0\n",
       "6      1.0\n",
       "7      1.0\n",
       "8     51.0\n",
       "9     57.0\n",
       "10    57.0\n",
       "11    47.0\n",
       "12    39.0\n",
       "13    39.0\n",
       "14    51.0\n",
       "dtype: float64"
      ]
     },
     "execution_count": 17,
     "metadata": {},
     "output_type": "execute_result"
    }
   ],
   "source": [
    "#creare una serie di 15 numeri random, inserire un valore nullo a 3 indici generati randomicamente, riempirli poi con ffill\n",
    "\n",
    "import numpy as np\n",
    "import pandas as pd\n",
    "\n",
    "s1=pd.Series(np.random.randint(1,100,15))\n",
    "\n",
    "indici0=np.random.choice(s1.index,size=3,replace=False)\n",
    "\n",
    "s1[indici0]=np.nan\n",
    "\n",
    "s2=s1.ffill()\n",
    "s2\n",
    "\n"
   ]
  }
 ],
 "metadata": {
  "kernelspec": {
   "display_name": "Python 3",
   "language": "python",
   "name": "python3"
  },
  "language_info": {
   "codemirror_mode": {
    "name": "ipython",
    "version": 3
   },
   "file_extension": ".py",
   "mimetype": "text/x-python",
   "name": "python",
   "nbconvert_exporter": "python",
   "pygments_lexer": "ipython3",
   "version": "3.12.6"
  }
 },
 "nbformat": 4,
 "nbformat_minor": 2
}
