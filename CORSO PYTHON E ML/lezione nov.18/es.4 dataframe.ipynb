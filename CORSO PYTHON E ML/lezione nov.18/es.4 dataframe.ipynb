{
 "cells": [
  {
   "cell_type": "code",
   "execution_count": 53,
   "metadata": {},
   "outputs": [],
   "source": [
    "import numpy as np\n",
    "import pandas as pd\n",
    "\n",
    "dataset = {\n",
    "    'Prodotto': [f\"Prodotto{i}\" for i in np.random.randint(1, 30, size=50)],\n",
    "    'Quantità': np.random.randint(1, 100, size=50),\n",
    "    'PrezzoUnitario': np.random.randint(100, 750, 50),\n",
    "    'Città': np.random.choice([\"Roma\", \"Milano\", \"Reggio Calabria\", \"Catanzaro\", \"Firenze\"], size=50)\n",
    "}\n",
    "\n",
    "#Caricare i dati in un DataFrame.\n",
    "df = pd.DataFrame(dataset)\n"
   ]
  },
  {
   "cell_type": "code",
   "execution_count": 55,
   "metadata": {},
   "outputs": [],
   "source": [
    "#Aggiungere una colonna \"Totale Vendite\" che sia il risultato del prodotto tra\n",
    "#Quantità e Prezzo Unitario\n",
    "df[\"Totale Vendite\"]= df[\"Quantità\"] * df[\"PrezzoUnitario\"]\n"
   ]
  },
  {
   "cell_type": "code",
   "execution_count": null,
   "metadata": {},
   "outputs": [],
   "source": [
    "# Raggruppare i dati per Prodotto e calcolare il totale delle vendite per\n",
    "# ciascun prodotto.\n",
    "tot=df.groupby(\"Prodotto\")['Totale Vendite'].sum()\n",
    "tot"
   ]
  },
  {
   "cell_type": "code",
   "execution_count": null,
   "metadata": {},
   "outputs": [
    {
     "data": {
      "text/plain": [
       "'Prodotto2'"
      ]
     },
     "execution_count": 57,
     "metadata": {},
     "output_type": "execute_result"
    }
   ],
   "source": [
    "#rovare il prodotto più venduto in termini di Quantità.\n",
    "quantità=df.groupby(\"Prodotto\")['Quantità'].sum()\n",
    "quantità1=quantità.idxmax()\n",
    "quantità1"
   ]
  },
  {
   "cell_type": "code",
   "execution_count": null,
   "metadata": {},
   "outputs": [],
   "source": [
    "#Identificare la città con il maggior volume di vendite totali.\n",
    "citta1 = df.groupby('Città')['Totale Vendite'].sum()\n",
    "citta2=citta1.idxmax()\n",
    "citta2\n"
   ]
  },
  {
   "cell_type": "code",
   "execution_count": null,
   "metadata": {},
   "outputs": [],
   "source": [
    "# Creare un nuovo DataFrame che mostri solo le vendite superiori a un certo\n",
    "# valore (es., 1000 euro).\n",
    "df2=df[df[\"Totale Vendite\"]> 1000]\n",
    "df2"
   ]
  },
  {
   "cell_type": "code",
   "execution_count": null,
   "metadata": {},
   "outputs": [
    {
     "data": {
      "text/plain": [
       "Città\n",
       "Milano             12\n",
       "Firenze            11\n",
       "Roma               10\n",
       "Catanzaro           9\n",
       "Reggio Calabria     8\n",
       "Name: count, dtype: int64"
      ]
     },
     "execution_count": 59,
     "metadata": {},
     "output_type": "execute_result"
    }
   ],
   "source": [
    "#isualizzare il numero di vendite per ogni città.\n",
    "vend_x_citta=df['Città'].value_counts()\n",
    "vend_x_citta"
   ]
  },
  {
   "cell_type": "code",
   "execution_count": null,
   "metadata": {},
   "outputs": [
    {
     "data": {
      "text/plain": [
       "Città\n",
       "Catanzaro          302287\n",
       "Roma               275366\n",
       "Firenze            272729\n",
       "Milano             218593\n",
       "Reggio Calabria     93750\n",
       "Name: Totale Vendite, dtype: int32"
      ]
     },
     "execution_count": 58,
     "metadata": {},
     "output_type": "execute_result"
    }
   ],
   "source": [
    "#rdinare il DataFrame originale per la colonna \"Totale Vendite\" in ordine\n",
    "# decrescente\n",
    "citta1\n",
    "citta4=citta1.sort_values( ascending=False)\n",
    "citta4\n",
    "\n",
    "\n"
   ]
  }
 ],
 "metadata": {
  "kernelspec": {
   "display_name": "Python 3",
   "language": "python",
   "name": "python3"
  },
  "language_info": {
   "codemirror_mode": {
    "name": "ipython",
    "version": 3
   },
   "file_extension": ".py",
   "mimetype": "text/x-python",
   "name": "python",
   "nbconvert_exporter": "python",
   "pygments_lexer": "ipython3",
   "version": "3.12.6"
  }
 },
 "nbformat": 4,
 "nbformat_minor": 2
}
